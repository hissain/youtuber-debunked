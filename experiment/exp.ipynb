{
 "cells": [
  {
   "cell_type": "markdown",
   "metadata": {},
   "source": [
    "## Configurations Setup"
   ]
  },
  {
   "cell_type": "code",
   "execution_count": 1,
   "metadata": {},
   "outputs": [],
   "source": [
    "#!pip install git+https://github.com/hissain/youtuber-debunked.git"
   ]
  },
  {
   "cell_type": "markdown",
   "metadata": {},
   "source": [
    "## Usage of the `ytdebunk` CLI"
   ]
  },
  {
   "cell_type": "code",
   "execution_count": 1,
   "metadata": {},
   "outputs": [
    {
     "name": "stdout",
     "output_type": "stream",
     "text": [
      "[youtube] Extracting URL: https://www.youtube.com/watch?v=w4sJoZ9D1YM\n",
      "[youtube] w4sJoZ9D1YM: Downloading webpage\n",
      "[youtube] w4sJoZ9D1YM: Downloading tv client config\n",
      "[youtube] w4sJoZ9D1YM: Downloading player 69f581a5\n",
      "[youtube] w4sJoZ9D1YM: Downloading tv player API JSON\n",
      "[youtube] w4sJoZ9D1YM: Downloading ios player API JSON\n",
      "[youtube] w4sJoZ9D1YM: Downloading m3u8 information\n",
      "[info] w4sJoZ9D1YM: Downloading 1 format(s): 251\n",
      "[download] Destination: downloads/audio\n",
      "\u001b[K[download] \u001b[0;94m  0.0%\u001b[0m of    2.69MiB at \u001b[0;32m Unknown B/s\u001b[0m ETA \u001b[0;33mUnknown\u001b[0mDownloading: \u001b[0;94m  0.0%\u001b[0m complete\n",
      "\u001b[K[download] \u001b[0;94m  0.1%\u001b[0m of    2.69MiB at \u001b[0;32m   2.21MiB/s\u001b[0m ETA \u001b[0;33m00:01\u001b[0mDownloading: \u001b[0;94m  0.1%\u001b[0m complete\n",
      "\u001b[K[download] \u001b[0;94m  0.3%\u001b[0m of    2.69MiB at \u001b[0;32m   2.51MiB/s\u001b[0m ETA \u001b[0;33m00:01\u001b[0mDownloading: \u001b[0;94m  0.3%\u001b[0m complete\n",
      "\u001b[K[download] \u001b[0;94m  0.5%\u001b[0m of    2.69MiB at \u001b[0;32m   4.05MiB/s\u001b[0m ETA \u001b[0;33m00:00\u001b[0mDownloading: \u001b[0;94m  0.5%\u001b[0m complete\n",
      "\u001b[K[download] \u001b[0;94m  1.1%\u001b[0m of    2.69MiB at \u001b[0;32m   5.08MiB/s\u001b[0m ETA \u001b[0;33m00:00\u001b[0mDownloading: \u001b[0;94m  1.1%\u001b[0m complete\n",
      "\u001b[K[download] \u001b[0;94m  2.3%\u001b[0m of    2.69MiB at \u001b[0;32m   7.03MiB/s\u001b[0m ETA \u001b[0;33m00:00\u001b[0mDownloading: \u001b[0;94m  2.3%\u001b[0m complete\n",
      "\u001b[K[download] \u001b[0;94m  4.6%\u001b[0m of    2.69MiB at \u001b[0;32m   7.81MiB/s\u001b[0m ETA \u001b[0;33m00:00\u001b[0mDownloading: \u001b[0;94m  4.6%\u001b[0m complete\n",
      "\u001b[K[download] \u001b[0;94m  9.3%\u001b[0m of    2.69MiB at \u001b[0;32m   8.97MiB/s\u001b[0m ETA \u001b[0;33m00:00\u001b[0mDownloading: \u001b[0;94m  9.3%\u001b[0m complete\n",
      "\u001b[K[download] \u001b[0;94m 18.5%\u001b[0m of    2.69MiB at \u001b[0;32m  11.79MiB/s\u001b[0m ETA \u001b[0;33m00:00\u001b[0mDownloading: \u001b[0;94m 18.5%\u001b[0m complete\n",
      "\u001b[K[download] \u001b[0;94m 37.1%\u001b[0m of    2.69MiB at \u001b[0;32m  14.94MiB/s\u001b[0m ETA \u001b[0;33m00:00\u001b[0mDownloading: \u001b[0;94m 37.1%\u001b[0m complete\n",
      "\u001b[K[download] \u001b[0;94m 74.3%\u001b[0m of    2.69MiB at \u001b[0;32m   4.85MiB/s\u001b[0m ETA \u001b[0;33m00:00\u001b[0mDownloading: \u001b[0;94m 74.3%\u001b[0m complete\n",
      "\u001b[K[download] \u001b[0;94m100.0%\u001b[0m of    2.69MiB at \u001b[0;32m   4.40MiB/s\u001b[0m ETA \u001b[0;33m00:00\u001b[0mDownloading: \u001b[0;94m100.0%\u001b[0m complete\n",
      "\u001b[K[download] 100% of    2.69MiB in \u001b[1;37m00:00:00\u001b[0m at \u001b[0;32m2.73MiB/s\u001b[0mDownloading: \u001b[0;94m100.0%\u001b[0m complete\n",
      "\n",
      "[ExtractAudio] Destination: downloads/audio.mp3\n",
      "Deleting original file downloads/audio (pass -k to keep)\n",
      "Audio download complete! Saved at downloads/audio.mp3\n",
      "Loading model...\n",
      "/Users/hissain/git/github/youtuber-debunked/.venv/lib/python3.11/site-packages/huggingface_hub/file_download.py:797: FutureWarning: `resume_download` is deprecated and will be removed in version 1.0.0. Downloads always resume when possible. If you want to force a new download, use `force_download=True`.\n",
      "  warnings.warn(\n",
      "Special tokens have been added in the vocabulary, make sure the associated word embeddings are fine-tuned or trained.\n",
      "Special tokens have been added in the vocabulary, make sure the associated word embeddings are fine-tuned or trained.\n",
      "Transcribing audio...\n",
      "Processing chunk 1 of 7...\n",
      "Processing chunk 2 of 7...\n",
      "Processing chunk 3 of 7...\n",
      "Processing chunk 4 of 7...\n"
     ]
    }
   ],
   "source": [
    "!ytdebunk \"https://www.youtube.com/watch?v=w4sJoZ9D1YM\" -e"
   ]
  }
 ],
 "metadata": {
  "kernelspec": {
   "display_name": ".venv",
   "language": "python",
   "name": "python3"
  },
  "language_info": {
   "codemirror_mode": {
    "name": "ipython",
    "version": 3
   },
   "file_extension": ".py",
   "mimetype": "text/x-python",
   "name": "python",
   "nbconvert_exporter": "python",
   "pygments_lexer": "ipython3",
   "version": "3.11.0"
  }
 },
 "nbformat": 4,
 "nbformat_minor": 2
}
