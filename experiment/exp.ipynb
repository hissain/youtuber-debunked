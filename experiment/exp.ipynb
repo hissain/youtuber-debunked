{
 "cells": [
  {
   "cell_type": "markdown",
   "metadata": {},
   "source": [
    "## Configurations Setup"
   ]
  },
  {
   "cell_type": "code",
   "execution_count": 1,
   "metadata": {},
   "outputs": [],
   "source": [
    "#!pip install git+https://github.com/hissain/youtuber-debunked.git"
   ]
  },
  {
   "cell_type": "markdown",
   "metadata": {},
   "source": [
    "## Usage of the `ytdebunk` CLI"
   ]
  },
  {
   "cell_type": "code",
   "execution_count": 1,
   "metadata": {},
   "outputs": [
    {
     "name": "stdout",
     "output_type": "stream",
     "text": [
      "[youtube] Extracting URL: https://www.youtube.com/watch?v=w4sJoZ9D1YM\n",
      "[youtube] w4sJoZ9D1YM: Downloading webpage\n",
      "[youtube] w4sJoZ9D1YM: Downloading tv client config\n",
      "[youtube] w4sJoZ9D1YM: Downloading player 69f581a5\n",
      "[youtube] w4sJoZ9D1YM: Downloading tv player API JSON\n",
      "[youtube] w4sJoZ9D1YM: Downloading ios player API JSON\n",
      "[youtube] w4sJoZ9D1YM: Downloading m3u8 information\n",
      "[info] w4sJoZ9D1YM: Downloading 1 format(s): 251\n",
      "[download] Destination: downloads/audio\n",
      "\u001b[K[download] \u001b[0;94m  0.0%\u001b[0m of    2.69MiB at \u001b[0;32m Unknown B/s\u001b[0m ETA \u001b[0;33mUnknown\u001b[0mDownloading: \u001b[0;94m  0.0%\u001b[0m complete\n",
      "\u001b[K[download] \u001b[0;94m  0.1%\u001b[0m of    2.69MiB at \u001b[0;32m   2.21MiB/s\u001b[0m ETA \u001b[0;33m00:01\u001b[0mDownloading: \u001b[0;94m  0.1%\u001b[0m complete\n",
      "\u001b[K[download] \u001b[0;94m  0.3%\u001b[0m of    2.69MiB at \u001b[0;32m   2.51MiB/s\u001b[0m ETA \u001b[0;33m00:01\u001b[0mDownloading: \u001b[0;94m  0.3%\u001b[0m complete\n",
      "\u001b[K[download] \u001b[0;94m  0.5%\u001b[0m of    2.69MiB at \u001b[0;32m   4.05MiB/s\u001b[0m ETA \u001b[0;33m00:00\u001b[0mDownloading: \u001b[0;94m  0.5%\u001b[0m complete\n",
      "\u001b[K[download] \u001b[0;94m  1.1%\u001b[0m of    2.69MiB at \u001b[0;32m   5.08MiB/s\u001b[0m ETA \u001b[0;33m00:00\u001b[0mDownloading: \u001b[0;94m  1.1%\u001b[0m complete\n",
      "\u001b[K[download] \u001b[0;94m  2.3%\u001b[0m of    2.69MiB at \u001b[0;32m   7.03MiB/s\u001b[0m ETA \u001b[0;33m00:00\u001b[0mDownloading: \u001b[0;94m  2.3%\u001b[0m complete\n",
      "\u001b[K[download] \u001b[0;94m  4.6%\u001b[0m of    2.69MiB at \u001b[0;32m   7.81MiB/s\u001b[0m ETA \u001b[0;33m00:00\u001b[0mDownloading: \u001b[0;94m  4.6%\u001b[0m complete\n",
      "\u001b[K[download] \u001b[0;94m  9.3%\u001b[0m of    2.69MiB at \u001b[0;32m   8.97MiB/s\u001b[0m ETA \u001b[0;33m00:00\u001b[0mDownloading: \u001b[0;94m  9.3%\u001b[0m complete\n",
      "\u001b[K[download] \u001b[0;94m 18.5%\u001b[0m of    2.69MiB at \u001b[0;32m  11.79MiB/s\u001b[0m ETA \u001b[0;33m00:00\u001b[0mDownloading: \u001b[0;94m 18.5%\u001b[0m complete\n",
      "\u001b[K[download] \u001b[0;94m 37.1%\u001b[0m of    2.69MiB at \u001b[0;32m  14.94MiB/s\u001b[0m ETA \u001b[0;33m00:00\u001b[0mDownloading: \u001b[0;94m 37.1%\u001b[0m complete\n",
      "\u001b[K[download] \u001b[0;94m 74.3%\u001b[0m of    2.69MiB at \u001b[0;32m   4.85MiB/s\u001b[0m ETA \u001b[0;33m00:00\u001b[0mDownloading: \u001b[0;94m 74.3%\u001b[0m complete\n",
      "\u001b[K[download] \u001b[0;94m100.0%\u001b[0m of    2.69MiB at \u001b[0;32m   4.40MiB/s\u001b[0m ETA \u001b[0;33m00:00\u001b[0mDownloading: \u001b[0;94m100.0%\u001b[0m complete\n",
      "\u001b[K[download] 100% of    2.69MiB in \u001b[1;37m00:00:00\u001b[0m at \u001b[0;32m2.73MiB/s\u001b[0mDownloading: \u001b[0;94m100.0%\u001b[0m complete\n",
      "\n",
      "[ExtractAudio] Destination: downloads/audio.mp3\n",
      "Deleting original file downloads/audio (pass -k to keep)\n",
      "Audio download complete! Saved at downloads/audio.mp3\n",
      "Loading model...\n",
      "/Users/hissain/git/github/youtuber-debunked/.venv/lib/python3.11/site-packages/huggingface_hub/file_download.py:797: FutureWarning: `resume_download` is deprecated and will be removed in version 1.0.0. Downloads always resume when possible. If you want to force a new download, use `force_download=True`.\n",
      "  warnings.warn(\n",
      "Special tokens have been added in the vocabulary, make sure the associated word embeddings are fine-tuned or trained.\n",
      "Special tokens have been added in the vocabulary, make sure the associated word embeddings are fine-tuned or trained.\n",
      "Transcribing audio...\n",
      "Processing chunk 1 of 7...\n",
      "Processing chunk 2 of 7...\n",
      "Processing chunk 3 of 7...\n",
      "Processing chunk 4 of 7...\n",
      "Processing chunk 5 of 7...\n",
      "Processing chunk 6 of 7...\n",
      "Processing chunk 7 of 7...\n",
      "Refining chunk no.  1\n",
      "Transcription saved to downloads/transcription.txt\n"
     ]
    }
   ],
   "source": [
    "!ytdebunk \"https://www.youtube.com/watch?v=w4sJoZ9D1YM\" -e"
   ]
  },
  {
   "cell_type": "code",
   "execution_count": null,
   "metadata": {},
   "outputs": [],
   "source": [
    "from IPython.display import Audio\n",
    "\n",
    "mp3_path = \"downloads/audio.mp3\"\n",
    "Audio(mp3_path, autoplay=True)\n"
   ]
  },
  {
   "cell_type": "code",
   "execution_count": 2,
   "metadata": {},
   "outputs": [
    {
     "name": "stdout",
     "output_type": "stream",
     "text": [
      "বিষয়মার্যার ভোররাতে নিজের ভেরিফাইড ফেসবুক পেইজ থেকে ওই স্ট্যাটাসে হাসনাত দাবি করেন যে ক্যান্টনমেন্ট থেকে আওয়ামী লীগকে পুনর্বাসনের পরিকল্পনা করা হচ্ছে। ওই স্ট্যাটাসে তিনি দাবি করেন, তিনি সহ আরও কয়েকজন ছাত্র নেতা সম্মতিতে বিষয়টিকে ‘রিফান্ড আওয়ামী লীগ’ নামে নতুন একটি ষড়যন্ত্র হিসেবে বর্ণনা করেছেন। তিনি দাবি করেন, নতুন নেতৃত্বের অধীনে আওয়ামী লীগকে রাজনীতিতে ফিরিয়ে আনার পরিকল্পনা চলছে। এদিকে একাধিক রাজনৈতিক দলকেও একই পুনর্বাসনের রাজনীতিতে সাহায্য করার অভিযোগ উঠেছে। বিএনপির জ্যেষ্ঠ যুগ্ম মহাসচিব রুহুল কবির রিজভী শুক্রবার ঢাকার এক অনুষ্ঠানে বলেছেন, হত্যা ও লুটপাটের সঙ্গে জড়িত নয় এমন কারও নেতৃত্বে আওয়ামী লীগের রাজনীতিতে কোনো বাধা নেই। যে লোক আওয়ামী লীগে নেতৃত্বে আসবে, সে যদি কোনো অপরাধ না করে, সে যদি ছাত্র হত্যা না করে, সে যদি কোনো অর্থ লুটপাট না করে, টাকা পাচার না করে, এরকম লোক দিলে নেতৃত্বে, তাদের আপত্তি থাকবে না। দলটির আমির শফিক রহমান বিষয়টি নিয়ে তার ভেরিফাইড ফেসবুক পেইজে পোস্ট দিয়েছেন যে, আওয়ামী লীগের পুনর্বাসন জনগণ মেনে নেবে না। তিনি আরও লিখেন, আওয়ামী লীগের চরম পরিনতি ৩১শে জুলাই ঘটবে। রাজনৈতিক বিশ্লেষক চিত্তবিনোদন আবু হাসনাত আব্দুল্লাহর স্ট্যাটাস নিয়ে আওয়ামী লীগের যুগ্ম সাধারণ সম্পাদক বাহার উদ্দীন নাসিমের কাছে জানতে চাওয়া হয় যে, নতুন নেতৃত্বের অধীনে আওয়ামী লীগের রাজনীতিতে ফেরার পরিকল্পনা চলছে কিনা। আওয়ামী লীগের সম্ভাব্য প্রতিক্রিয়া জানতে চাওয়া হয়েছে। আর হাসনাত আব্দুল্লাহর স্ট্যাটাসের বিষয়ে সেনাবাহিনীর বিবৃতির জন্য আন্তঃবাহিনী জনসংযোগ পরিদপ্তরের সাথে যোগাযোগ করা হলেও তারা জানিয়েছে যে, এই স্ট্যাটাসের ব্যাপারে তাদের কোনো মন্তব্য নেই।\n"
     ]
    }
   ],
   "source": [
    "with open('downloads/transcription.txt') as f:\n",
    "    print(f.read())"
   ]
  }
 ],
 "metadata": {
  "kernelspec": {
   "display_name": ".venv",
   "language": "python",
   "name": "python3"
  },
  "language_info": {
   "codemirror_mode": {
    "name": "ipython",
    "version": 3
   },
   "file_extension": ".py",
   "mimetype": "text/x-python",
   "name": "python",
   "nbconvert_exporter": "python",
   "pygments_lexer": "ipython3",
   "version": "3.11.0"
  }
 },
 "nbformat": 4,
 "nbformat_minor": 2
}
